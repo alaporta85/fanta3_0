{
 "cells": [
  {
   "cell_type": "code",
   "execution_count": 1,
   "metadata": {},
   "outputs": [],
   "source": [
    "from MANTRA_simulation import *\n",
    "pd.set_option('display.max_columns', 500)\n",
    "pd.set_option('display.width', 1000)"
   ]
  },
  {
   "cell_type": "code",
   "execution_count": 2,
   "metadata": {},
   "outputs": [
    {
     "name": "stdout",
     "output_type": "stream",
     "text": [
      "Alvin482\n",
      "                         Points  V   N   P  Gs  Gt  Dr  Abs Points\n",
      "FC ROXY                      34  9   7   5  30  18  12      1500.0\n",
      "Fc Stress                    34  9   7   5  35  30   5      1537.5\n",
      "FC Pastaboy                  33  8   9   4  33  28   5      1514.0\n",
      "Ciolle United                31  7  10   4  28  22   6      1485.5\n",
      "AC PICCHIA                   29  7   8   6  25  23   2      1459.0\n",
      "Giochici Giochici Stars      25  6   7   8  30  35  -5      1484.5\n",
      "Bucalina FC                  19  4   7  10  24  34 -10      1458.0\n",
      "FC BOMBAGALLO                16  3   7  11  21  36 -15      1443.5\n",
      "\n",
      "% of bonus/malus points used\n",
      "                         Bonus(%)  Malus(%)  Lucky Points  N. of malus  Matches in 10  Matches in 9\n",
      "FC ROXY                      72.8      53.3            -4            0              0             0\n",
      "Fc Stress                    72.9      65.8            -5            2              0             0\n",
      "FC Pastaboy                  66.7      31.7            -1            1              0             0\n",
      "Ciolle United                54.5      65.9             3            2              1             0\n",
      "AC PICCHIA                   66.9      33.3             2            5              1             0\n",
      "Giochici Giochici Stars      62.2      33.8            -4            2              0             0\n",
      "Bucalina FC                  78.9      67.0             2            8              2             0\n",
      "FC BOMBAGALLO                63.5      85.0             2            2              0             1\n",
      "\n",
      "Average player's fantavote according to the role.\n",
      "                         Por  Dc,Dd,Ds  E,M,C,W,T  A,Pc\n",
      "FC ROXY                  2.4       2.6        2.8   3.2\n",
      "Fc Stress                3.5       4.2        4.2   5.3\n",
      "FC Pastaboy              3.7       4.2        4.7   5.4\n",
      "Ciolle United            2.1       2.4        2.4   2.7\n",
      "AC PICCHIA               3.5       4.2        4.3   4.3\n",
      "Giochici Giochici Stars  2.3       2.7        3.1   4.1\n",
      "Bucalina FC              4.4       4.8        5.4   5.7\n",
      "FC BOMBAGALLO            2.4       2.8        3.4   3.0\n",
      "\n"
     ]
    }
   ],
   "source": [
    "a = League(our_round, n_days, 'ST')\n",
    "a.play_league()\n",
    "a.print_league()\n",
    "a.print_rates_bonus_malus()\n",
    "a.print_contributes()"
   ]
  },
  {
   "cell_type": "code",
   "execution_count": 3,
   "metadata": {},
   "outputs": [
    {
     "name": "stdout",
     "output_type": "stream",
     "text": [
      "Fantagazzetta\n",
      "                         Points  V   N   P  Gs  Gt  Dr  Abs Points\n",
      "Fc Stress                    35  9   8   4  39  34   5      1550.5\n",
      "FC Pastaboy                  34  8  10   3  35  29   6      1515.0\n",
      "FC ROXY                      33  8   9   4  33  20  13      1503.0\n",
      "Ciolle United                28  6  10   5  28  26   2      1483.5\n",
      "AC PICCHIA                   28  7   7   7  22  22   0      1455.5\n",
      "Giochici Giochici Stars      24  5   9   7  30  34  -4      1496.5\n",
      "Bucalina FC                  19  4   7  10  26  34  -8      1468.5\n",
      "FC BOMBAGALLO                16  2  10   9  21  35 -14      1436.5\n",
      "\n"
     ]
    }
   ],
   "source": [
    "b = League(our_round, n_days, 'FG')\n",
    "b.play_league()\n",
    "b.print_league()"
   ]
  },
  {
   "cell_type": "code",
   "execution_count": 4,
   "metadata": {},
   "outputs": [
    {
     "name": "stdout",
     "output_type": "stream",
     "text": [
      "Statistics on 10000 random leagues:\n",
      "                         1st(%)  2nd(%)  3rd(%)  4th(%)  5th(%)  6th(%)  7th(%)  8th(%)\n",
      "Fc Stress                  45.2    20.6    13.3     9.1     6.1     3.4     1.6     0.7\n",
      "FC Pastaboy                29.6    28.7    19.0    11.6     6.6     2.7     1.4     0.4\n",
      "FC ROXY                     8.4    20.4    25.6    22.8    14.1     6.3     2.0     0.4\n",
      "Giochici Giochici Stars    10.9    16.9    18.0    18.6    15.4     9.4     6.4     4.3\n",
      "Ciolle United               5.2    10.6    16.1    19.1    19.8    13.8     9.1     6.3\n",
      "AC PICCHIA                  0.6     1.9     4.2     7.8    14.4    22.9    23.8    24.2\n",
      "FC BOMBAGALLO               0.1     0.7     2.3     6.3    13.4    20.0    25.5    31.6\n",
      "Bucalina FC                 0.0     0.3     1.4     4.6    10.1    21.4    30.1    32.0\n"
     ]
    }
   ],
   "source": [
    "c = Statistic(10000, n_days, 'ST')\n",
    "c.positions8_rate()"
   ]
  },
  {
   "cell_type": "code",
   "execution_count": 29,
   "metadata": {},
   "outputs": [
    {
     "name": "stdout",
     "output_type": "stream",
     "text": [
      "\n",
      "Number of rounds found where FC BOMBAGALLO ends in position 1 in the final ranking: 1\n",
      "In the best case FC BOMBAGALLO ends with 31 points. The round is:\n",
      "\n",
      "('Ciolle United', 'AC PICCHIA')\n",
      "('FC Pastaboy', 'Bucalina FC')\n",
      "('FC ROXY', 'FC BOMBAGALLO')\n",
      "('Fc Stress', 'Giochici Giochici Stars')\n",
      "\n",
      "('Ciolle United', 'Fc Stress')\n",
      "('FC Pastaboy', 'Giochici Giochici Stars')\n",
      "('FC ROXY', 'Bucalina FC')\n",
      "('AC PICCHIA', 'FC BOMBAGALLO')\n",
      "\n",
      "('Ciolle United', 'Giochici Giochici Stars')\n",
      "('FC Pastaboy', 'FC BOMBAGALLO')\n",
      "('FC ROXY', 'Fc Stress')\n",
      "('Bucalina FC', 'AC PICCHIA')\n",
      "\n",
      "('Ciolle United', 'FC BOMBAGALLO')\n",
      "('FC Pastaboy', 'Fc Stress')\n",
      "('FC ROXY', 'AC PICCHIA')\n",
      "('Bucalina FC', 'Giochici Giochici Stars')\n",
      "\n",
      "('Ciolle United', 'Bucalina FC')\n",
      "('FC Pastaboy', 'FC ROXY')\n",
      "('Fc Stress', 'FC BOMBAGALLO')\n",
      "('AC PICCHIA', 'Giochici Giochici Stars')\n",
      "\n",
      "('Ciolle United', 'FC Pastaboy')\n",
      "('FC ROXY', 'Giochici Giochici Stars')\n",
      "('Bucalina FC', 'FC BOMBAGALLO')\n",
      "('Fc Stress', 'AC PICCHIA')\n",
      "\n",
      "('Ciolle United', 'FC ROXY')\n",
      "('FC Pastaboy', 'AC PICCHIA')\n",
      "('Bucalina FC', 'Fc Stress')\n",
      "('FC BOMBAGALLO', 'Giochici Giochici Stars')\n",
      "\n"
     ]
    }
   ],
   "source": [
    "c.round_team_position('FC BOMBAGALLO', 1, 'best')"
   ]
  },
  {
   "cell_type": "markdown",
   "metadata": {},
   "source": [
    "$$Indice = \\prod QuotePrese \\frac {NumeroQuotePrese}{NumeroQuoteGiocate}$$"
   ]
  },
  {
   "cell_type": "code",
   "execution_count": 6,
   "metadata": {},
   "outputs": [
    {
     "name": "stdout",
     "output_type": "stream",
     "text": [
      "None\n"
     ]
    }
   ],
   "source": [
    "print(a.bonus_distr(1))"
   ]
  },
  {
   "cell_type": "code",
   "execution_count": null,
   "metadata": {
    "collapsed": true
   },
   "outputs": [],
   "source": []
  }
 ],
 "metadata": {
  "kernelspec": {
   "display_name": "Python 3",
   "language": "python",
   "name": "python3"
  },
  "language_info": {
   "codemirror_mode": {
    "name": "ipython",
    "version": 3
   },
   "file_extension": ".py",
   "mimetype": "text/x-python",
   "name": "python",
   "nbconvert_exporter": "python",
   "pygments_lexer": "ipython3",
   "version": "3.6.1"
  }
 },
 "nbformat": 4,
 "nbformat_minor": 2
}
