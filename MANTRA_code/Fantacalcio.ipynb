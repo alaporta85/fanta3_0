{
 "cells": [
  {
   "cell_type": "code",
   "execution_count": 1,
   "metadata": {
    "collapsed": true
   },
   "outputs": [],
   "source": [
    "from MANTRA_simulation import *\n",
    "pd.set_option('display.max_columns', 500)\n",
    "pd.set_option('display.width', 1000)"
   ]
  },
  {
   "cell_type": "code",
   "execution_count": 2,
   "metadata": {},
   "outputs": [
    {
     "name": "stdout",
     "output_type": "stream",
     "text": [
      "Alvin482\n",
      "                         Points  V  N  P  Gs  Gt  Dr  Malus  Abs Points\n",
      "Fc Stress                    32  9  5  2  29  20   9      2      1178.5\n",
      "FC Pastaboy                  25  6  7  3  25  22   3      1      1150.5\n",
      "Ciolle United                21  4  9  3  21  19   2      0      1132.0\n",
      "FC ROXY                      21  5  6  5  20  15   5      0      1138.0\n",
      "Giochici Giochici Stars      21  5  6  5  26  26   0      2      1149.0\n",
      "AC PICCHIA                   20  4  8  4  16  19  -3      4      1094.5\n",
      "FC BOMBAGALLO                14  3  5  8  17  25  -8      1      1100.5\n",
      "Bucalina FC                  13  3  4  9  21  29  -8      6      1128.0\n",
      "\n",
      "% of bonus/malus points used and points obtained thanks to 0.5.\n",
      "                         Bonus(%)  Malus(%)  Lucky Points\n",
      "Fc Stress                    72.5      69.8            -2\n",
      "FC Pastaboy                  70.2      29.7             1\n",
      "Ciolle United                53.1      64.8             1\n",
      "FC ROXY                      67.4      50.9            -5\n",
      "Giochici Giochici Stars      61.7      32.4            -2\n",
      "AC PICCHIA                   60.6      37.2             2\n",
      "FC BOMBAGALLO                64.0      88.8             2\n",
      "Bucalina FC                  79.3      68.8             0\n",
      "\n"
     ]
    }
   ],
   "source": [
    "a = League(our_round, n_days, 'ST')\n",
    "a.play_league()\n",
    "a.print_league()\n",
    "a.print_rates_bonus_malus()"
   ]
  },
  {
   "cell_type": "code",
   "execution_count": 3,
   "metadata": {},
   "outputs": [
    {
     "name": "stdout",
     "output_type": "stream",
     "text": [
      "Fantagazzetta\n",
      "                         Points  V  N  P  Gs  Gt  Dr  Malus  Abs Points\n",
      "Fc Stress                    30  8  6  2  30  22   8      2      1189.5\n",
      "FC ROXY                      25  6  7  3  25  15  10      0      1142.5\n",
      "FC Pastaboy                  24  5  9  2  25  23   2      1      1150.5\n",
      "Giochici Giochici Stars      20  4  8  4  27  26   1      2      1162.0\n",
      "AC PICCHIA                   19  4  7  5  15  19  -4      4      1092.5\n",
      "Ciolle United                18  3  9  4  21  22  -1      0      1128.5\n",
      "Bucalina FC                  14  3  5  8  23  29  -6      6      1136.5\n",
      "FC BOMBAGALLO                13  2  7  7  17  27 -10      1      1096.5\n",
      "\n"
     ]
    }
   ],
   "source": [
    "b = League(our_round, n_days, 'FG')\n",
    "b.play_league()\n",
    "b.print_league()"
   ]
  },
  {
   "cell_type": "code",
   "execution_count": 4,
   "metadata": {},
   "outputs": [
    {
     "name": "stdout",
     "output_type": "stream",
     "text": [
      "Statistics on 10000 random leagues:\n",
      "                         1st(%)  2nd(%)  3rd(%)  4th(%)  5th(%)  6th(%)  7th(%)  8th(%)\n",
      "Fc Stress                  45.9    24.8    15.6     7.2     3.8     1.8     0.7     0.1\n",
      "FC Pastaboy                27.1    30.4    20.9    10.9     5.4     2.9     1.7     0.7\n",
      "Giochici Giochici Stars    21.9    26.5    22.7    13.0     6.8     4.2     3.0     2.0\n",
      "Ciolle United               3.7     9.2    15.4    20.8    17.5    13.2    10.9     9.4\n",
      "FC ROXY                     0.7     5.2    12.9    20.2    21.0    19.4    14.8     5.8\n",
      "Bucalina FC                 0.4     1.9     5.2    11.7    20.1    23.8    22.2    14.7\n",
      "FC BOMBAGALLO               0.1     0.9     4.1     9.9    15.5    21.0    25.6    22.8\n",
      "AC PICCHIA                  0.3     1.3     3.1     6.2     9.8    13.6    21.0    44.5\n"
     ]
    }
   ],
   "source": [
    "c = Statistic(10000, n_days, 'ST')\n",
    "c.positions8_rate()"
   ]
  },
  {
   "cell_type": "code",
   "execution_count": null,
   "metadata": {
    "collapsed": true
   },
   "outputs": [],
   "source": []
  }
 ],
 "metadata": {
  "kernelspec": {
   "display_name": "Python 3",
   "language": "python",
   "name": "python3"
  },
  "language_info": {
   "codemirror_mode": {
    "name": "ipython",
    "version": 3
   },
   "file_extension": ".py",
   "mimetype": "text/x-python",
   "name": "python",
   "nbconvert_exporter": "python",
   "pygments_lexer": "ipython3",
   "version": "3.6.1"
  }
 },
 "nbformat": 4,
 "nbformat_minor": 2
}
