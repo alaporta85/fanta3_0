{
 "cells": [
  {
   "cell_type": "code",
   "execution_count": 1,
   "metadata": {
    "collapsed": true
   },
   "outputs": [],
   "source": [
    "from MANTRA_simulation import *\n",
    "pd.set_option('display.max_columns', 500)\n",
    "pd.set_option('display.width', 1000)"
   ]
  },
  {
   "cell_type": "code",
   "execution_count": 2,
   "metadata": {},
   "outputs": [
    {
     "name": "stdout",
     "output_type": "stream",
     "text": [
      "Alvin482\n",
      "                         Points  V  N   P  Gs  Gt  Dr  Abs Points\n",
      "Fc Stress                    32  9  5   4  31  25   6      1320.5\n",
      "FC Pastaboy                  29  7  8   3  28  23   5      1299.5\n",
      "Ciolle United                27  6  9   3  25  20   5      1281.0\n",
      "AC PICCHIA                   26  6  8   4  22  20   2      1251.5\n",
      "FC ROXY                      25  6  7   5  23  15   8      1271.0\n",
      "Giochici Giochici Stars      22  5  7   6  27  28  -1      1280.5\n",
      "Bucalina FC                  14  3  5  10  21  32 -11      1249.5\n",
      "FC BOMBAGALLO                14  3  5  10  17  31 -14      1230.0\n",
      "\n",
      "% of bonus/malus points used\n",
      "                         Bonus(%)  Malus(%)  Lucky Points  N. of malus  Matches in 10  Matches in 9\n",
      "Fc Stress                    72.6      66.3            -3            2              0             0\n",
      "FC Pastaboy                  70.3      31.2            -1            1              0             0\n",
      "Ciolle United                55.0      64.9             3            1              1             0\n",
      "AC PICCHIA                   66.4      32.8             2            4              1             0\n",
      "FC ROXY                      70.3      56.0            -4            0              0             0\n",
      "Giochici Giochici Stars      61.3      35.6            -4            2              0             0\n",
      "Bucalina FC                  77.7      69.4             1            7              2             0\n",
      "FC BOMBAGALLO                62.7      88.0             2            1              0             1\n",
      "\n",
      "Average player's fantavote according to the role.\n",
      "                         Por  Dc,Dd,Ds  E,M,C,W,T  A,Pc\n",
      "Fc Stress                5.2       6.2        6.6   8.0\n",
      "FC Pastaboy              5.1       5.9        6.8   7.9\n",
      "Ciolle United            5.8       6.4        6.5   7.0\n",
      "AC PICCHIA               5.4       6.3        6.5   6.5\n",
      "FC ROXY                  5.4       6.0        6.6   7.4\n",
      "Giochici Giochici Stars  4.8       5.9        6.5   8.3\n",
      "Bucalina FC              5.6       6.0        6.8   7.0\n",
      "FC BOMBAGALLO            4.6       5.9        6.8   6.8\n",
      "\n"
     ]
    }
   ],
   "source": [
    "a = League(our_round, n_days, 'ST')\n",
    "a.play_league()\n",
    "a.print_league()\n",
    "a.print_rates_bonus_malus()\n",
    "a.print_contributes()"
   ]
  },
  {
   "cell_type": "code",
   "execution_count": 3,
   "metadata": {},
   "outputs": [
    {
     "name": "stdout",
     "output_type": "stream",
     "text": [
      "Fantagazzetta\n",
      "                         Points  V  N  P  Gs  Gt  Dr  Malus  Abs Points\n",
      "Fc Stress                    30  8  6  4  33  29   4      2      1333.0\n",
      "FC Pastaboy                  30  7  9  2  30  24   6      1      1300.5\n",
      "FC ROXY                      28  7  7  4  27  16  11      0      1274.0\n",
      "AC PICCHIA                   25  6  7  5  19  19   0      4      1247.0\n",
      "Ciolle United                24  5  9  4  25  24   1      1      1278.5\n",
      "Giochici Giochici Stars      21  4  9  5  27  27   0      2      1292.0\n",
      "Bucalina FC                  15  3  6  9  23  31  -8      7      1259.0\n",
      "FC BOMBAGALLO                13  2  7  9  17  31 -14      1      1223.5\n",
      "\n"
     ]
    }
   ],
   "source": [
    "b = League(our_round, n_days, 'FG')\n",
    "b.play_league()\n",
    "b.print_league()"
   ]
  },
  {
   "cell_type": "code",
   "execution_count": 3,
   "metadata": {},
   "outputs": [
    {
     "name": "stdout",
     "output_type": "stream",
     "text": [
      "Statistics on 10000 random leagues:\n",
      "                         1st(%)  2nd(%)  3rd(%)  4th(%)  5th(%)  6th(%)  7th(%)  8th(%)\n",
      "Fc Stress                  46.6    23.6    14.3     8.4     4.5     1.7     0.6     0.3\n",
      "FC Pastaboy                29.7    29.5    19.3    10.6     5.7     2.9     1.6     0.7\n",
      "Giochici Giochici Stars    14.4    22.7    21.1    15.8    10.8     7.2     4.7     3.4\n",
      "Ciolle United               7.1    14.7    20.9    21.1    14.8    10.1     6.7     4.7\n",
      "FC ROXY                     0.8     5.3    14.5    22.6    24.1    18.9    10.2     3.5\n",
      "AC PICCHIA                  1.2     3.4     6.2    10.9    16.4    19.9    20.8    21.2\n",
      "Bucalina FC                 0.0     0.6     2.2     5.8    12.5    21.8    29.6    27.5\n",
      "FC BOMBAGALLO               0.0     0.3     1.6     4.8    11.2    17.6    25.8    38.7\n"
     ]
    }
   ],
   "source": [
    "c = Statistic(10000, n_days, 'ST')\n",
    "c.positions8_rate()"
   ]
  },
  {
   "cell_type": "code",
   "execution_count": 5,
   "metadata": {
    "collapsed": true
   },
   "outputs": [],
   "source": [
    "cio = Fantateam('Ciolle United')"
   ]
  },
  {
   "cell_type": "code",
   "execution_count": 7,
   "metadata": {},
   "outputs": [
    {
     "data": {
      "text/plain": [
       "[]"
      ]
     },
     "execution_count": 7,
     "metadata": {},
     "output_type": "execute_result"
    }
   ],
   "source": [
    "cio.fields"
   ]
  },
  {
   "cell_type": "code",
   "execution_count": 18,
   "metadata": {},
   "outputs": [
    {
     "ename": "AttributeError",
     "evalue": "'Fantateam' object has no attribute 'matches_in_ten'",
     "output_type": "error",
     "traceback": [
      "\u001b[0;31m---------------------------------------------------------------------------\u001b[0m",
      "\u001b[0;31mAttributeError\u001b[0m                            Traceback (most recent call last)",
      "\u001b[0;32m<ipython-input-18-15563cf9ff3d>\u001b[0m in \u001b[0;36m<module>\u001b[0;34m()\u001b[0m\n\u001b[0;32m----> 1\u001b[0;31m \u001b[0ma\u001b[0m\u001b[0;34m.\u001b[0m\u001b[0mfantateams\u001b[0m\u001b[0;34m[\u001b[0m\u001b[0;34m'Giochici Giochici Stars'\u001b[0m\u001b[0;34m]\u001b[0m\u001b[0;34m.\u001b[0m\u001b[0mmatches_in_ten\u001b[0m\u001b[0;34m\u001b[0m\u001b[0m\n\u001b[0m",
      "\u001b[0;31mAttributeError\u001b[0m: 'Fantateam' object has no attribute 'matches_in_ten'"
     ]
    }
   ],
   "source": [
    "a.fantateams['Giochici Giochici Stars'].matches_in_ten"
   ]
  },
  {
   "cell_type": "code",
   "execution_count": null,
   "metadata": {
    "collapsed": true
   },
   "outputs": [],
   "source": []
  }
 ],
 "metadata": {
  "kernelspec": {
   "display_name": "Python 3",
   "language": "python",
   "name": "python3"
  },
  "language_info": {
   "codemirror_mode": {
    "name": "ipython",
    "version": 3
   },
   "file_extension": ".py",
   "mimetype": "text/x-python",
   "name": "python",
   "nbconvert_exporter": "python",
   "pygments_lexer": "ipython3",
   "version": "3.6.1"
  }
 },
 "nbformat": 4,
 "nbformat_minor": 2
}
