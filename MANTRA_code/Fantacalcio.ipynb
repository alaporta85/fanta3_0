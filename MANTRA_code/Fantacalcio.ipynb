{
 "cells": [
  {
   "cell_type": "code",
   "execution_count": 1,
   "metadata": {
    "collapsed": true
   },
   "outputs": [],
   "source": [
    "from MANTRA_simulation import *\n",
    "pd.set_option('display.max_columns', 500)\n",
    "pd.set_option('display.width', 1000)"
   ]
  },
  {
   "cell_type": "code",
   "execution_count": 2,
   "metadata": {},
   "outputs": [
    {
     "name": "stdout",
     "output_type": "stream",
     "text": [
      "Alvin482\n",
      "                         Points  V  N   P  Gs  Gt  Dr  Abs Points\n",
      "Fc Stress                    32  9  5   5  32  27   5      1391.5\n",
      "FC Pastaboy                  30  7  9   3  29  24   5      1366.5\n",
      "FC ROXY                      28  7  7   5  25  16   9      1347.5\n",
      "Ciolle United                27  6  9   4  25  21   4      1345.0\n",
      "AC PICCHIA                   26  6  8   5  22  21   1      1316.0\n",
      "Giochici Giochici Stars      25  6  7   6  28  28   0      1348.0\n",
      "Bucalina FC                  17  4  5  10  22  32 -10      1319.5\n",
      "FC BOMBAGALLO                15  3  6  10  18  32 -14      1300.5\n",
      "\n",
      "% of bonus/malus points used\n",
      "                         Bonus(%)  Malus(%)  Lucky Points  N. of malus  Matches in 10  Matches in 9\n",
      "Fc Stress                    73.4      66.7            -3            2              0             0\n",
      "FC Pastaboy                  69.3      31.4            -1            1              0             0\n",
      "FC ROXY                      71.8      52.9            -4            0              0             0\n",
      "Ciolle United                54.0      65.8             3            1              1             0\n",
      "AC PICCHIA                   64.6      32.2             2            5              1             0\n",
      "Giochici Giochici Stars      60.8      34.9            -4            2              0             0\n",
      "Bucalina FC                  78.2      67.8             1            7              2             0\n",
      "FC BOMBAGALLO                61.3      87.5             2            1              0             1\n",
      "\n",
      "Average player's fantavote according to the role.\n",
      "                         Por  Dc,Dd,Ds  E,M,C,W,T  A,Pc\n",
      "Fc Stress                5.3       6.2        6.5   8.1\n",
      "FC Pastaboy              5.1       5.9        6.8   7.8\n",
      "FC ROXY                  5.5       6.0        6.5   7.6\n",
      "Ciolle United            5.8       6.4        6.5   6.9\n",
      "AC PICCHIA               5.5       6.3        6.5   6.4\n",
      "Giochici Giochici Stars  4.8       5.9        6.5   8.2\n",
      "Bucalina FC              5.6       6.0        6.7   7.0\n",
      "FC BOMBAGALLO            4.7       5.9        6.7   6.8\n",
      "\n"
     ]
    }
   ],
   "source": [
    "a = League(our_round, n_days, 'ST')\n",
    "a.play_league()\n",
    "a.print_league()\n",
    "a.print_rates_bonus_malus()\n",
    "a.print_contributes()"
   ]
  },
  {
   "cell_type": "code",
   "execution_count": 3,
   "metadata": {},
   "outputs": [
    {
     "name": "stdout",
     "output_type": "stream",
     "text": [
      "Fantagazzetta\n",
      "                         Points  V   N  P  Gs  Gt  Dr  Abs Points\n",
      "Fc Stress                    31  8   7  4  35  31   4      1405.5\n",
      "FC Pastaboy                  31  7  10  2  31  25   6      1366.5\n",
      "FC ROXY                      29  7   8  4  29  18  11      1350.5\n",
      "AC PICCHIA                   25  6   7  6  19  20  -1      1312.5\n",
      "Giochici Giochici Stars      24  5   9  5  28  27   1      1361.0\n",
      "Ciolle United                24  5   9  5  25  25   0      1343.5\n",
      "Bucalina FC                  18  4   6  9  24  31  -7      1329.0\n",
      "FC BOMBAGALLO                14  2   8  9  18  32 -14      1294.0\n",
      "\n"
     ]
    }
   ],
   "source": [
    "b = League(our_round, n_days, 'FG')\n",
    "b.play_league()\n",
    "b.print_league()"
   ]
  },
  {
   "cell_type": "code",
   "execution_count": 28,
   "metadata": {},
   "outputs": [
    {
     "name": "stdout",
     "output_type": "stream",
     "text": [
      "Statistics on 10000 random leagues:\n",
      "                         1st(%)  2nd(%)  3rd(%)  4th(%)  5th(%)  6th(%)  7th(%)  8th(%)\n",
      "Fc Stress                  46.8    23.5    13.6     8.1     4.5     2.2     0.9     0.4\n",
      "FC Pastaboy                30.0    29.6    18.4    10.7     6.1     3.1     1.6     0.6\n",
      "Giochici Giochici Stars    16.1    22.1    21.2    15.7    10.5     6.9     4.8     2.7\n",
      "FC ROXY                     2.4    11.3    21.2    24.9    21.1    12.7     5.5     1.0\n",
      "Ciolle United               3.9    10.5    16.7    20.0    19.2    13.7     9.6     6.4\n",
      "Bucalina FC                 0.1     0.7     2.8     7.2    13.3    23.3    28.6    23.9\n",
      "AC PICCHIA                  0.7     1.9     4.4     8.0    13.0    19.1    23.4    29.6\n",
      "FC BOMBAGALLO               0.0     0.4     1.8     5.5    12.4    19.0    25.6    35.4\n"
     ]
    }
   ],
   "source": [
    "c = Statistic(10000, n_days, 'ST')\n",
    "c.positions8_rate()"
   ]
  },
  {
   "cell_type": "code",
   "execution_count": 10,
   "metadata": {},
   "outputs": [
    {
     "name": "stdout",
     "output_type": "stream",
     "text": [
      "\n",
      "Number of rounds found where Fc Stress ends in position 8 in the final ranking: 31\n",
      "In the worst case Fc Stress ends with 16 points. The round is:\n",
      "\n",
      "('Ciolle United', 'FC Pastaboy')\n",
      "('FC ROXY', 'FC BOMBAGALLO')\n",
      "('Bucalina FC', 'AC PICCHIA')\n",
      "('Fc Stress', 'Giochici Giochici Stars')\n",
      "\n",
      "('Ciolle United', 'FC ROXY')\n",
      "('FC Pastaboy', 'Bucalina FC')\n",
      "('Fc Stress', 'FC BOMBAGALLO')\n",
      "('AC PICCHIA', 'Giochici Giochici Stars')\n",
      "\n",
      "('Ciolle United', 'Fc Stress')\n",
      "('FC Pastaboy', 'AC PICCHIA')\n",
      "('FC ROXY', 'Giochici Giochici Stars')\n",
      "('Bucalina FC', 'FC BOMBAGALLO')\n",
      "\n",
      "('Ciolle United', 'AC PICCHIA')\n",
      "('FC Pastaboy', 'FC BOMBAGALLO')\n",
      "('FC ROXY', 'Fc Stress')\n",
      "('Bucalina FC', 'Giochici Giochici Stars')\n",
      "\n",
      "('Ciolle United', 'FC BOMBAGALLO')\n",
      "('FC Pastaboy', 'Giochici Giochici Stars')\n",
      "('FC ROXY', 'AC PICCHIA')\n",
      "('Bucalina FC', 'Fc Stress')\n",
      "\n",
      "('Ciolle United', 'Giochici Giochici Stars')\n",
      "('FC Pastaboy', 'Fc Stress')\n",
      "('FC ROXY', 'Bucalina FC')\n",
      "('AC PICCHIA', 'FC BOMBAGALLO')\n",
      "\n",
      "('Ciolle United', 'Bucalina FC')\n",
      "('FC Pastaboy', 'FC ROXY')\n",
      "('Fc Stress', 'AC PICCHIA')\n",
      "('FC BOMBAGALLO', 'Giochici Giochici Stars')\n",
      "\n"
     ]
    }
   ],
   "source": [
    "c.round_team_position('Fc Stress', 8, 'worst')"
   ]
  },
  {
   "cell_type": "markdown",
   "metadata": {},
   "source": [
    "$$Indice = \\prod QuotePrese \\frac {NumeroQuotePrese}{NumeroQuoteGiocate}$$"
   ]
  },
  {
   "cell_type": "code",
   "execution_count": null,
   "metadata": {
    "collapsed": true
   },
   "outputs": [],
   "source": []
  }
 ],
 "metadata": {
  "kernelspec": {
   "display_name": "Python 3",
   "language": "python",
   "name": "python3"
  },
  "language_info": {
   "codemirror_mode": {
    "name": "ipython",
    "version": 3
   },
   "file_extension": ".py",
   "mimetype": "text/x-python",
   "name": "python",
   "nbconvert_exporter": "python",
   "pygments_lexer": "ipython3",
   "version": "3.6.1"
  }
 },
 "nbformat": 4,
 "nbformat_minor": 2
}
