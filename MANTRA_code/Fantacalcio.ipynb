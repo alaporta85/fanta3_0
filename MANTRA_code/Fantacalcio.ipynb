{
 "cells": [
  {
   "cell_type": "code",
   "execution_count": 1,
   "metadata": {
    "collapsed": true
   },
   "outputs": [],
   "source": [
    "from MANTRA_simulation import *\n",
    "pd.set_option('display.max_columns', 500)\n",
    "pd.set_option('display.width', 1000)"
   ]
  },
  {
   "cell_type": "code",
   "execution_count": 2,
   "metadata": {},
   "outputs": [
    {
     "name": "stdout",
     "output_type": "stream",
     "text": [
      "Alvin482\n",
      "                         Points  V  N   P  Gs  Gt  Dr  Abs Points\n",
      "Fc Stress                    33  9  6   5  33  28   5      1463.0\n",
      "FC Pastaboy                  33  8  9   3  33  25   8      1451.5\n",
      "FC ROXY                      31  8  7   5  27  17  10      1420.0\n",
      "Ciolle United                30  7  9   4  27  21   6      1418.5\n",
      "AC PICCHIA                   26  6  8   6  22  23  -1      1379.5\n",
      "Giochici Giochici Stars      25  6  7   7  29  32  -3      1417.5\n",
      "Bucalina FC                  18  4  6  10  23  33 -10      1388.5\n",
      "FC BOMBAGALLO                15  3  6  11  19  34 -15      1370.5\n",
      "\n",
      "% of bonus/malus points used\n",
      "                         Bonus(%)  Malus(%)  Lucky Points  N. of malus  Matches in 10  Matches in 9\n",
      "Fc Stress                    73.6      66.4            -5            2              0             0\n",
      "FC Pastaboy                  67.8      31.5            -1            1              0             0\n",
      "FC ROXY                      73.1      54.2            -4            0              0             0\n",
      "Ciolle United                54.6      67.5             3            1              1             0\n",
      "AC PICCHIA                   64.3      33.0             2            5              1             0\n",
      "Giochici Giochici Stars      61.5      33.7            -4            2              0             0\n",
      "Bucalina FC                  78.6      67.4             2            8              2             0\n",
      "FC BOMBAGALLO                62.0      85.2             2            1              0             1\n",
      "\n",
      "Average player's fantavote according to the role.\n",
      "                         Por  Dc,Dd,Ds  E,M,C,W,T  A,Pc\n",
      "Fc Stress                5.3       6.2        6.6   7.9\n",
      "FC Pastaboy              5.1       6.0        6.8   8.1\n",
      "FC ROXY                  5.5       6.0        6.5   7.6\n",
      "Ciolle United            5.7       6.5        6.4   7.0\n",
      "AC PICCHIA               5.4       6.3        6.5   6.4\n",
      "Giochici Giochici Stars  4.9       5.9        6.5   8.2\n",
      "Bucalina FC              5.7       6.0        6.7   7.1\n",
      "FC BOMBAGALLO            4.7       5.9        6.7   6.8\n",
      "\n"
     ]
    }
   ],
   "source": [
    "a = League(our_round, n_days, 'ST')\n",
    "a.play_league()\n",
    "a.print_league()\n",
    "a.print_rates_bonus_malus()\n",
    "a.print_contributes()"
   ]
  },
  {
   "cell_type": "code",
   "execution_count": 3,
   "metadata": {},
   "outputs": [
    {
     "name": "stdout",
     "output_type": "stream",
     "text": [
      "Fantagazzetta\n",
      "                         Points  V   N   P  Gs  Gt  Dr  Abs Points\n",
      "Fc Stress                    34  9   7   4  37  32   5      1477.5\n",
      "FC Pastaboy                  34  8  10   2  35  26   9      1451.5\n",
      "FC ROXY                      30  7   9   4  30  19  11      1422.0\n",
      "Ciolle United                27  6   9   5  27  25   2      1416.5\n",
      "AC PICCHIA                   25  6   7   7  19  22  -3      1376.5\n",
      "Giochici Giochici Stars      24  5   9   6  29  31  -2      1430.0\n",
      "Bucalina FC                  18  4   6  10  25  33  -8      1397.0\n",
      "FC BOMBAGALLO                15  2   9   9  19  33 -14      1364.0\n",
      "\n"
     ]
    }
   ],
   "source": [
    "b = League(our_round, n_days, 'FG')\n",
    "b.play_league()\n",
    "b.print_league()"
   ]
  },
  {
   "cell_type": "code",
   "execution_count": 4,
   "metadata": {},
   "outputs": [
    {
     "name": "stdout",
     "output_type": "stream",
     "text": [
      "Statistics on 10000 random leagues:\n",
      "                         1st(%)  2nd(%)  3rd(%)  4th(%)  5th(%)  6th(%)  7th(%)  8th(%)\n",
      "FC Pastaboy                40.3    28.2    16.0     8.4     4.5     1.8     0.7     0.2\n",
      "Fc Stress                  38.2    25.3    14.7    10.7     6.4     3.1     1.1     0.4\n",
      "Giochici Giochici Stars    12.2    18.7    20.1    18.1    14.6     7.8     5.2     3.2\n",
      "FC ROXY                     3.5    13.8    23.4    26.9    19.9     9.0     3.0     0.5\n",
      "Ciolle United               5.4    12.3    19.3    20.1    19.6    11.7     7.4     4.3\n",
      "Bucalina FC                 0.0     0.5     2.3     6.0    12.9    26.2    29.8    22.3\n",
      "FC BOMBAGALLO               0.0     0.2     1.7     4.7    11.3    20.9    27.1    34.1\n",
      "AC PICCHIA                  0.3     0.9     2.5     5.1    10.9    19.6    25.9    34.9\n"
     ]
    }
   ],
   "source": [
    "c = Statistic(10000, n_days, 'ST')\n",
    "c.positions8_rate()"
   ]
  },
  {
   "cell_type": "code",
   "execution_count": 29,
   "metadata": {},
   "outputs": [
    {
     "name": "stdout",
     "output_type": "stream",
     "text": [
      "\n",
      "Number of rounds found where FC BOMBAGALLO ends in position 1 in the final ranking: 1\n",
      "In the best case FC BOMBAGALLO ends with 31 points. The round is:\n",
      "\n",
      "('Ciolle United', 'AC PICCHIA')\n",
      "('FC Pastaboy', 'Bucalina FC')\n",
      "('FC ROXY', 'FC BOMBAGALLO')\n",
      "('Fc Stress', 'Giochici Giochici Stars')\n",
      "\n",
      "('Ciolle United', 'Fc Stress')\n",
      "('FC Pastaboy', 'Giochici Giochici Stars')\n",
      "('FC ROXY', 'Bucalina FC')\n",
      "('AC PICCHIA', 'FC BOMBAGALLO')\n",
      "\n",
      "('Ciolle United', 'Giochici Giochici Stars')\n",
      "('FC Pastaboy', 'FC BOMBAGALLO')\n",
      "('FC ROXY', 'Fc Stress')\n",
      "('Bucalina FC', 'AC PICCHIA')\n",
      "\n",
      "('Ciolle United', 'FC BOMBAGALLO')\n",
      "('FC Pastaboy', 'Fc Stress')\n",
      "('FC ROXY', 'AC PICCHIA')\n",
      "('Bucalina FC', 'Giochici Giochici Stars')\n",
      "\n",
      "('Ciolle United', 'Bucalina FC')\n",
      "('FC Pastaboy', 'FC ROXY')\n",
      "('Fc Stress', 'FC BOMBAGALLO')\n",
      "('AC PICCHIA', 'Giochici Giochici Stars')\n",
      "\n",
      "('Ciolle United', 'FC Pastaboy')\n",
      "('FC ROXY', 'Giochici Giochici Stars')\n",
      "('Bucalina FC', 'FC BOMBAGALLO')\n",
      "('Fc Stress', 'AC PICCHIA')\n",
      "\n",
      "('Ciolle United', 'FC ROXY')\n",
      "('FC Pastaboy', 'AC PICCHIA')\n",
      "('Bucalina FC', 'Fc Stress')\n",
      "('FC BOMBAGALLO', 'Giochici Giochici Stars')\n",
      "\n"
     ]
    }
   ],
   "source": [
    "c.round_team_position('FC BOMBAGALLO', 1, 'best')"
   ]
  },
  {
   "cell_type": "markdown",
   "metadata": {},
   "source": [
    "$$Indice = \\prod QuotePrese \\frac {NumeroQuotePrese}{NumeroQuoteGiocate}$$"
   ]
  },
  {
   "cell_type": "code",
   "execution_count": 6,
   "metadata": {},
   "outputs": [
    {
     "name": "stdout",
     "output_type": "stream",
     "text": [
      "None\n"
     ]
    }
   ],
   "source": [
    "print(a.bonus_distr(1))"
   ]
  },
  {
   "cell_type": "code",
   "execution_count": null,
   "metadata": {
    "collapsed": true
   },
   "outputs": [],
   "source": []
  }
 ],
 "metadata": {
  "kernelspec": {
   "display_name": "Python 3",
   "language": "python",
   "name": "python3"
  },
  "language_info": {
   "codemirror_mode": {
    "name": "ipython",
    "version": 3
   },
   "file_extension": ".py",
   "mimetype": "text/x-python",
   "name": "python",
   "nbconvert_exporter": "python",
   "pygments_lexer": "ipython3",
   "version": "3.6.1"
  }
 },
 "nbformat": 4,
 "nbformat_minor": 2
}
