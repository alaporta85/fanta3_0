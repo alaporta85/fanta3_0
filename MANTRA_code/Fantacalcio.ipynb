{
 "cells": [
  {
   "cell_type": "code",
   "execution_count": 1,
   "metadata": {
    "collapsed": true
   },
   "outputs": [],
   "source": [
    "from MANTRA_simulation import *\n",
    "pd.set_option('display.max_columns', 500)\n",
    "pd.set_option('display.width', 1000)"
   ]
  },
  {
   "cell_type": "code",
   "execution_count": 2,
   "metadata": {},
   "outputs": [
    {
     "name": "stdout",
     "output_type": "stream",
     "text": [
      "Alvin482\n",
      "                         Points  V   N   P  Gs  Gt  Dr  Abs Points\n",
      "FC ROXY                      34  9   7   5  30  18  12      1500.0\n",
      "Fc Stress                    34  9   7   5  35  30   5      1537.5\n",
      "FC Pastaboy                  33  8   9   4  33  28   5      1514.0\n",
      "Ciolle United                31  7  10   4  28  22   6      1485.5\n",
      "AC PICCHIA                   29  7   8   6  25  23   2      1459.0\n",
      "Giochici Giochici Stars      25  6   7   8  30  35  -5      1484.5\n",
      "Bucalina FC                  19  4   7  10  24  34 -10      1458.0\n",
      "FC BOMBAGALLO                16  3   7  11  21  36 -15      1443.5\n",
      "\n",
      "\n",
      "                         Bonus(%)  Malus(%)  Lucky Points  #malus   #10   #9   Avrg Abs  MAX Abs  MIN Abs\n",
      "FC ROXY                      72.8      53.3            -4       0     0    0  71.4(6.8)     4(0)  7(1000)\n",
      "Fc Stress                    72.9      65.8            -5       2     0    0  73.2(6.8)     6(0)  1(1000)\n",
      "FC Pastaboy                  66.7      31.7            -1       1     0    0  72.1(6.3)     4(0)  3(1000)\n",
      "Ciolle United                54.5      65.9             3       2     1    0  70.7(5.1)     1(0)  3(1000)\n",
      "AC PICCHIA                   66.9      33.3             2       5     1    0  69.5(5.8)     3(0)  5(1000)\n",
      "Giochici Giochici Stars      62.2      33.8            -4       2     0    0  70.7(5.4)     2(0)  0(1000)\n",
      "Bucalina FC                  78.9      67.0             2       8     2    0  69.4(7.1)     4(0)  3(1000)\n",
      "FC BOMBAGALLO                63.5      85.0             2       2     0    1  68.7(6.0)     0(0)  3(1000)\n",
      "\n",
      "\n",
      "Average player's fantavote according to the role.\n",
      "                         Por  Dc,Dd,Ds  E,M,C,W,T  A,Pc\n",
      "FC ROXY                  5.5       6.0        6.5   7.8\n",
      "Fc Stress                5.4       6.2        6.6   7.9\n",
      "FC Pastaboy              5.1       6.0        6.6   8.0\n",
      "Ciolle United            5.7       6.4        6.4   6.9\n",
      "AC PICCHIA               5.4       6.3        6.5   6.5\n",
      "Giochici Giochici Stars  4.8       5.9        6.5   8.1\n",
      "Bucalina FC              5.7       6.0        6.7   7.0\n",
      "FC BOMBAGALLO            4.7       5.9        6.8   6.8\n",
      "\n"
     ]
    }
   ],
   "source": [
    "a = League(our_round, n_days, 'ST')\n",
    "a.play_league()\n",
    "a.print_league()\n",
    "print()\n",
    "a.print_extra_info()\n",
    "print()\n",
    "a.print_contributes()"
   ]
  },
  {
   "cell_type": "code",
   "execution_count": 4,
   "metadata": {},
   "outputs": [
    {
     "name": "stdout",
     "output_type": "stream",
     "text": [
      "Matches with highest number of goals:\n",
      "\n",
      "      * FC BOMBAGALLO - Bucalina FC (3-5) on day 15.\n",
      "\n",
      "\n",
      "Days with highest number of goals:\n",
      "\n",
      "   Day 4, 19 goals\n",
      "      * FC Pastaboy - Fc Stress (2-5)\n",
      "      * Ciolle United - FC BOMBAGALLO (2-2)\n",
      "      * AC PICCHIA - Giochici Giochici Stars (1-3)\n",
      "      * Bucalina FC - FC ROXY (1-3)\n",
      "\n",
      "\n",
      "\n",
      "Days with lowest number of goals:\n",
      "\n",
      "   Day 13, 5 goals\n",
      "      * FC Pastaboy - Giochici Giochici Stars (1-1)\n",
      "      * FC ROXY - FC BOMBAGALLO (2-0)\n",
      "      * Fc Stress - Bucalina FC (1-0)\n",
      "      * Ciolle United - AC PICCHIA (0-0)\n",
      "\n"
     ]
    }
   ],
   "source": [
    "a.print_extra_info2()"
   ]
  },
  {
   "cell_type": "code",
   "execution_count": null,
   "metadata": {
    "collapsed": true
   },
   "outputs": [],
   "source": [
    "b = League(our_round, n_days, 'FG')\n",
    "b.play_league()\n",
    "b.print_league()"
   ]
  },
  {
   "cell_type": "code",
   "execution_count": null,
   "metadata": {
    "collapsed": true
   },
   "outputs": [],
   "source": [
    "c = Statistic(100, n_days, 'ST')\n",
    "c.positions8_rate()"
   ]
  },
  {
   "cell_type": "code",
   "execution_count": null,
   "metadata": {
    "collapsed": true
   },
   "outputs": [],
   "source": [
    "a.bonus_distr(2)"
   ]
  }
 ],
 "metadata": {
  "kernelspec": {
   "display_name": "Python 3",
   "language": "python",
   "name": "python3"
  },
  "language_info": {
   "codemirror_mode": {
    "name": "ipython",
    "version": 3
   },
   "file_extension": ".py",
   "mimetype": "text/x-python",
   "name": "python",
   "nbconvert_exporter": "python",
   "pygments_lexer": "ipython3",
   "version": "3.6.1"
  }
 },
 "nbformat": 4,
 "nbformat_minor": 2
}
