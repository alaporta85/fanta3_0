{
 "cells": [
  {
   "cell_type": "code",
   "execution_count": 1,
   "metadata": {
    "collapsed": true
   },
   "outputs": [],
   "source": [
    "from MANTRA_simulation import *\n",
    "pd.set_option('display.max_columns', 500)\n",
    "pd.set_option('display.width', 1000)"
   ]
  },
  {
   "cell_type": "code",
   "execution_count": 2,
   "metadata": {},
   "outputs": [
    {
     "name": "stdout",
     "output_type": "stream",
     "text": [
      "Alvin482\n",
      "                         Points  V  N  P  Gs  Gt  Dr  Malus  Abs Points\n",
      "Fc Stress                    29  8  5  2  28  20   8      2      1112.0\n",
      "FC Pastaboy                  22  5  7  3  23  22   1      1      1076.5\n",
      "Giochici Giochici Stars      21  5  6  4  26  25   1      2      1085.5\n",
      "AC PICCHIA                   20  4  8  3  16  18  -2      3      1033.5\n",
      "Ciolle United                20  4  8  3  20  18   2      0      1060.5\n",
      "FC ROXY                      20  5  5  5  19  14   5      0      1068.5\n",
      "Bucalina FC                  13  3  4  8  21  27  -6      5      1066.5\n",
      "FC BOMBAGALLO                11  2  5  8  16  25  -9      1      1030.0\n",
      "\n",
      "% of bonus/malus points used and points obtained thanks to 0.5.\n",
      "                         Bonus(%)  Malus(%)  Lucky Points\n",
      "Fc Stress                    73.8      72.0            -2\n",
      "FC Pastaboy                  70.1      28.9             1\n",
      "Giochici Giochici Stars      62.4      30.9            -2\n",
      "AC PICCHIA                   60.6      36.6             2\n",
      "Ciolle United                54.4      63.8             3\n",
      "FC ROXY                      65.9      50.9            -6\n",
      "Bucalina FC                  79.3      67.6             0\n",
      "FC BOMBAGALLO                65.9      89.0             2\n",
      "\n"
     ]
    }
   ],
   "source": [
    "a = League(our_round, n_days, 'ST')\n",
    "a.play_league()\n",
    "a.print_league()\n",
    "a.print_rates_bonus_malus()"
   ]
  },
  {
   "cell_type": "code",
   "execution_count": 3,
   "metadata": {},
   "outputs": [
    {
     "name": "stdout",
     "output_type": "stream",
     "text": [
      "Fantagazzetta\n",
      "                         Points  V  N  P  Gs  Gt  Dr  Malus  Abs Points\n",
      "Fc Stress                    27  7  6  2  29  22   7      2      1120.0\n",
      "FC ROXY                      24  6  6  3  24  14  10      0      1072.0\n",
      "FC Pastaboy                  21  4  9  2  23  23   0      1      1075.5\n",
      "Giochici Giochici Stars      20  4  8  3  27  25   2      2      1098.5\n",
      "AC PICCHIA                   19  4  7  4  15  18  -3      3      1034.0\n",
      "Ciolle United                17  3  8  4  20  21  -1      0      1059.0\n",
      "Bucalina FC                  14  3  5  7  23  27  -4      5      1074.5\n",
      "FC BOMBAGALLO                10  1  7  7  16  27 -11      1      1025.0\n",
      "\n"
     ]
    }
   ],
   "source": [
    "b = League(our_round, n_days, 'FG')\n",
    "b.play_league()\n",
    "b.print_league()"
   ]
  },
  {
   "cell_type": "code",
   "execution_count": 4,
   "metadata": {},
   "outputs": [
    {
     "name": "stdout",
     "output_type": "stream",
     "text": [
      "Statistics on 10000 random leagues:\n",
      "                         1st(%)  2nd(%)  3rd(%)  4th(%)  5th(%)  6th(%)  7th(%)  8th(%)\n",
      "Fc Stress                  45.4    26.9    15.1     6.7     3.3     1.6     0.8     0.2\n",
      "Giochici Giochici Stars    32.9    30.2    17.0     8.7     4.9     3.2     2.0     1.1\n",
      "FC Pastaboy                17.4    26.1    25.3    12.8     7.3     5.4     3.5     2.2\n",
      "Ciolle United               2.9     8.7    15.3    19.2    16.5    13.6    12.5    11.3\n",
      "FC ROXY                     0.2     2.5    10.4    20.3    24.0    21.1    15.4     6.1\n",
      "Bucalina FC                 0.6     3.0     9.2    16.0    20.9    21.8    18.0    10.6\n",
      "FC BOMBAGALLO               0.0     0.5     3.4     8.5    12.8    18.9    26.3    29.6\n",
      "AC PICCHIA                  0.7     2.1     4.2     7.9    10.4    14.4    21.4    38.9\n"
     ]
    }
   ],
   "source": [
    "c = Statistic(10000, n_days, 'ST')\n",
    "c.positions8_rate()"
   ]
  }
 ],
 "metadata": {
  "kernelspec": {
   "display_name": "Python 3",
   "language": "python",
   "name": "python3"
  },
  "language_info": {
   "codemirror_mode": {
    "name": "ipython",
    "version": 3
   },
   "file_extension": ".py",
   "mimetype": "text/x-python",
   "name": "python",
   "nbconvert_exporter": "python",
   "pygments_lexer": "ipython3",
   "version": "3.6.1"
  }
 },
 "nbformat": 4,
 "nbformat_minor": 2
}
